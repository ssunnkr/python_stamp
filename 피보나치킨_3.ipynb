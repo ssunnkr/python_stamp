{
 "cells": [
  {
   "cell_type": "code",
   "execution_count": 55,
   "metadata": {},
   "outputs": [
    {
     "name": "stdout",
     "output_type": "stream",
     "text": [
      "추천하는 치킨 수: 9 마리를 시키세요!\n"
     ]
    }
   ],
   "source": [
    "def Fibonachicken(x): #unit29 참고/ 피보나치킨 함수 선언\n",
    "    if x == 0: return 0 #unit31 참고/ 재귀호출 입력값이 0명일 때 0개를 Fibonachicken 값으로 반환한다.\n",
    "    if x == 1: return 1 # 입력값이 1명일 때 1개를 Fibonachicken 값으로 반환한다.\n",
    "    # if x == 2: return str('황금비율로는 1마리지만 2명은 1인 1닭을 위해 2') # 입력값이 2명일 때 2마리를 출력하고 그 이유를 설명하기 위해 str사용 # 특정 숫자에서 오류가 뜨기에 주석처리 ex) 15' 54등\n",
    "    if x == 7: return str('4마리..가 아니라 7명이라니 딱 비자림조 인원수네요. 만약 비자림조에서 치킨을 먹을거라면 열심히 공부했으니 1인 1닭 하기위해 7') #자림조 화이팅\n",
    "    a,b = 1,1 # a와 b의 초기값은 1로 설정\n",
    "    while 1: # unit17 참고/ 0이 아닌 숫자는 True로 취급하여 무한 루프로 동작 리턴을 통해 반환하여 종료할 때까지 무한 반복\n",
    "        c = a+b \n",
    "        #print(c) # 계산 과정이 궁금할 때 사용 1\n",
    "        if c > x: return a + Fibonachicken(x-b)  # 만약 c가 입력 인수x보다 작을 경우 빠져 나와 elif문으로 넘어간다. 만약 조건이 맞다면 'a + Fibonachicken 을 실행하여' 결과 값을 Fibonachicken 값으로 반환하고 종료한다.\n",
    "        elif c == x: return b # 만약 c와 x값과 같다면 종료하고 b값을 Fibonachicken 값으로 반환한다. 만약 아니라면 'a, b = b,c'로 넘어간다\n",
    "        a, b = b, c # a와 b의 각각 b와 c의 값을 대입한후 while문 처음으로 돌아간다.\n",
    "        #print(a,b) # 계산 과정이 궁금할 때 사용 2\n",
    "\n",
    "people = int(input('치킨을 몇명이서 먹을건가요?: ')) #uint 6 참고/\n",
    "\n",
    "if people >=  7753000000: # unit 13, 14, 15 참고 / 지구를 넘어 우주까지\n",
    "        print('다른 우주까지 치킨의 맛을 알아버렸군요. {} 마리를 시키세요.'.format(Fibonachicken(people)))\n",
    "elif people == 7753000000: # 현 지구에 살고 있는 셰계인구수\n",
    "    print('전지구인이 모인건가요? 괜찮습니다 치느님은 감당할 수 있을지어니, {} 마리를 시키세요.'.format(Fibonachicken(people)))\n",
    "elif people >= 100:\n",
    "    print('추천하는 치킨 수: 축제군요 {} 마리를 시키세요!'.format(Fibonachicken(people)))\n",
    "elif people == 2:\n",
    "    print('황금비율로는 {}마리지만 2명은 1인 1닭을 위해 2마리를 시키세요!'.format(Fibonachicken(people)) )\n",
    "else:\n",
    "    print('추천하는 치킨 수: {} 마리를 시키세요!'.format(Fibonachicken(people)))\n",
    "#재밌게 만들어볼려고 했는데 지저분해졌네요ㅋㅋㅋㅠ \n",
    "#LMS 시간에 배운 람다 표현식을 사용하면 더 깔끔하게 만들 수 있을 것 같은데 아직은 능력부족이라 한줄로밖에 못줄였습니다ㅠㅠ\n",
    "# +반환한 치킨이 255억마리 이상일 때 '세상에 존재하는 닭의 숫자를 넘었습니다'를 출력하는 것이 목표입니다."
   ]
  },
  {
   "cell_type": "code",
   "execution_count": null,
   "metadata": {},
   "outputs": [],
   "source": []
  }
 ],
 "metadata": {
  "interpreter": {
   "hash": "b68e377a671b9e72a3b1087335efb134a77d36c0bfe57a32a7c19b212dc2fbdd"
  },
  "kernelspec": {
   "display_name": "Python 3.9.7 ('base')",
   "language": "python",
   "name": "python3"
  },
  "language_info": {
   "codemirror_mode": {
    "name": "ipython",
    "version": 3
   },
   "file_extension": ".py",
   "mimetype": "text/x-python",
   "name": "python",
   "nbconvert_exporter": "python",
   "pygments_lexer": "ipython3",
   "version": "3.9.7"
  },
  "orig_nbformat": 4
 },
 "nbformat": 4,
 "nbformat_minor": 2
}
