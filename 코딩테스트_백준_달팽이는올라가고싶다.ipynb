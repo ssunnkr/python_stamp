{
 "cells": [
  {
   "cell_type": "markdown",
   "metadata": {},
   "source": [
    "# 달팽이는 올라가고 싶다."
   ]
  },
  {
   "cell_type": "markdown",
   "metadata": {},
   "source": [
    "## 문제\n",
    "땅 위에 달팽이가 있다. 이 달팽이는 높이가 V미터인 나무 막대를 올라갈 것이다.  \n",
    "\n",
    "달팽이는 낮에 A미터 올라갈 수 있다. 하지만, 밤에 잠을 자는 동안 B미터 미끄러진다. 또, 정상에 올라간 후에는 미끄러지지 않는다.  \n",
    "\n",
    "달팽이가 나무 막대를 모두 올라가려면, 며칠이 걸리는지 구하는 프로그램을 작성하시오.  "
   ]
  },
  {
   "cell_type": "markdown",
   "metadata": {},
   "source": [
    "## 입력\n",
    "\n",
    "첫째 줄에 세 정수 A, B, V가 공백으로 구분되어서 주어진다. (1 ≤ B < A ≤ V ≤ 1,000,000,000)\n",
    "\n"
   ]
  },
  {
   "cell_type": "markdown",
   "metadata": {},
   "source": [
    "## 출력\n",
    "첫째 줄에 달팽이가 나무 막대를 모두 올라가는데 며칠이 걸리는지 출력한다.\n",
    "\n"
   ]
  },
  {
   "cell_type": "markdown",
   "metadata": {},
   "source": [
    "예제입력   \n",
    "2 1 5  \n",
    "예제출력  \n",
    "4  "
   ]
  },
  {
   "cell_type": "code",
   "execution_count": null,
   "metadata": {},
   "outputs": [],
   "source": [
    "# 처음에는 나아간 값을 변수 C에다가 + / 과정\n",
    "# 두번째는 count +1\n",
    "# 세번째-1 는 도착해야하는 값과 나아간 값을 비교하여 도착해야하는 값보다 크면 while문을 종료하도록\n",
    "# 세번째-2 도착하지 않았다면 처음에 +한 값에서 출발점으로 돌아가는 값을 뺌 그 후 다시 처음으로\n"
   ]
  },
  {
   "cell_type": "code",
   "execution_count": 38,
   "metadata": {},
   "outputs": [
    {
     "name": "stdout",
     "output_type": "stream",
     "text": [
      "999999901\n"
     ]
    }
   ],
   "source": [
    "# 이 식으로는 낮은 숫자 같은경우 짧은 시간안에 계산이 가능함\n",
    "# 그러나 시간 제한이 0.15초라는점\n",
    "# 천만단위로 갈경우 정답은 나오지만 시간이 굉장히 오래걸림(1000000000높이 입력시 대략 3m51s) 백준에서는 시간제한이 있기에 시간초과로 불합격이 됨\n",
    "# 더 간단하게 만들 필요가 있음.\n",
    "def goal(a, b, v):\n",
    "    count = 0\n",
    "    c = 0\n",
    "    while 1: \n",
    "        c += a\n",
    "        count += 1\n",
    "        if v <= c: return count\n",
    "        c -= b\n",
    "A, B, V = map(int,input().split())\n",
    "C = (V/A)\n",
    "print(goal(A, B, V))\n",
    "\n"
   ]
  },
  {
   "cell_type": "code",
   "execution_count": null,
   "metadata": {},
   "outputs": [],
   "source": [
    "# 위 입력과정은 수학계산과정으로 만들 수 있음\n",
    "# (도착길이-내려간길이)/(올라간길이-내려간길이)로 계산과정 요약 과능\n",
    "# 값이 클수록 계산과정이 긴 함수를 생략하고 입력값을 바로 계산하도록 하는 코드 작성\n",
    "# 단 계산결과가 정수가 아닌 실수로 나오게 됨.\n",
    "# 또한 계산과결과 5.1 5.2 같은 경우 결국 하루가 넘어간 것이기 때문에 단순히 '정수'처리를 하는 것이 아닌 '올림'처리을 해줘야함\n",
    "# 올림을 해주는 모듈로는 import math가 있음 출력할려는 값에 math.ceil(변수) 형태로 사용 #참고 https://wikidocs.net/21116"
   ]
  },
  {
   "cell_type": "code",
   "execution_count": 8,
   "metadata": {},
   "outputs": [
    {
     "name": "stdout",
     "output_type": "stream",
     "text": [
      "4\n"
     ]
    }
   ],
   "source": [
    "\n",
    "import math\n",
    "\n",
    "A, B, V = map(int,input().split())\n",
    "C = (V-B)/(A-B)\n",
    "print(math.ceil(C))\n"
   ]
  },
  {
   "cell_type": "code",
   "execution_count": 10,
   "metadata": {},
   "outputs": [
    {
     "name": "stdout",
     "output_type": "stream",
     "text": [
      "5\n"
     ]
    }
   ],
   "source": [
    "import math\n",
    "A,B,V = map(int, input().split())\n",
    "\n",
    "n = (V-A)/(A-B)\n",
    "print(math.ceil(n) + 1)\n"
   ]
  },
  {
   "cell_type": "markdown",
   "metadata": {},
   "source": []
  }
 ],
 "metadata": {
  "interpreter": {
   "hash": "a59dc1dcb280767e1541beb883352acbe24e77c028211ef192031d7df32c832b"
  },
  "kernelspec": {
   "display_name": "Python 3.9.7 ('venv': venv)",
   "language": "python",
   "name": "python3"
  },
  "language_info": {
   "codemirror_mode": {
    "name": "ipython",
    "version": 3
   },
   "file_extension": ".py",
   "mimetype": "text/x-python",
   "name": "python",
   "nbconvert_exporter": "python",
   "pygments_lexer": "ipython3",
   "version": "3.9.7"
  },
  "orig_nbformat": 4
 },
 "nbformat": 4,
 "nbformat_minor": 2
}
