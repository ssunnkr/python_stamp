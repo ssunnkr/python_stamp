{
 "cells": [
  {
   "cell_type": "code",
   "execution_count": null,
   "metadata": {},
   "outputs": [],
   "source": [
    "#피보나치킨_2\n",
    "from math import sqrt, log, floor\n",
    "\n",
    "phi = (1 + sqrt(5)) / 2\n",
    "phi_ = 1 - phi\n",
    "\n",
    "def Binet(i):\n",
    "    return round((phi ** i - phi_ ** i) / sqrt(5))\n",
    "\n",
    "def inverse_fibonacci(N):\n",
    "    return round(log(sqrt(5) * N) / log(phi))\n",
    "\n",
    "def is_perfect(n):\n",
    "    rootn = floor(sqrt(n))\n",
    "    return True if rootn * rootn == n else False\n",
    "\n",
    "def is_fibonacci(N):\n",
    "    x, y = 5 * N * N + 4, 5 * N * N - 4\n",
    "    return is_perfect(x) or is_perfect(y)\n",
    "\n",
    "def FibonaChicken(N):\n",
    "    if N <= 2:\n",
    "        return 1\n",
    "    i = inverse_fibonacci(N)\n",
    "    if is_fibonacci(N):\n",
    "        return Binet(i - 1)\n",
    "    else:\n",
    "        while N > Binet(i):\n",
    "            i += 1\n",
    "        return Binet(i - 2) + FibonaChicken(N - Binet(i - 1))\n",
    "\n",
    "N = int(input(\"자애로운 자여, 몇 명이나 먹이려고 하는고? \"))\n",
    "C = FibonaChicken(N)\n",
    "print(\"그렇다면\", C, \"마리를 시키거라\")\n",
    "print(\"능히\", N, \"명을 먹이는데 부족함이 없느니라.\")"
   ]
  }
 ],
 "metadata": {
  "language_info": {
   "name": "python"
  },
  "orig_nbformat": 4
 },
 "nbformat": 4,
 "nbformat_minor": 2
}
