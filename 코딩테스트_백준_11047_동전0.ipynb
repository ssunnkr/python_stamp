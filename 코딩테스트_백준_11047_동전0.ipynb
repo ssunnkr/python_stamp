{
 "cells": [
  {
   "cell_type": "code",
   "execution_count": 1,
   "metadata": {},
   "outputs": [],
   "source": [
    "# 문제링크: https://www.acmicpc.net/problem/11047"
   ]
  },
  {
   "cell_type": "code",
   "execution_count": null,
   "metadata": {},
   "outputs": [],
   "source": [
    "N, K = map(int, input().split()) \n",
    "coin_lst = list()\n",
    "for i in range(N):\n",
    "    coin_lst.append(int(input()))\n",
    "\n",
    "count = 0\n",
    "for i in reversed(range(N)):\n",
    "    count += K//coin_lst[i] #카운트 값에 K를 동전으로 나눈 몫을 더해줌\n",
    "    K = K%coin_lst[i] # K는 동전으로 나눈 나머지로 계속 반복\n",
    "\n",
    "print(count)"
   ]
  }
 ],
 "metadata": {
  "interpreter": {
   "hash": "a59dc1dcb280767e1541beb883352acbe24e77c028211ef192031d7df32c832b"
  },
  "kernelspec": {
   "display_name": "Python 3.9.7 ('venv': venv)",
   "language": "python",
   "name": "python3"
  },
  "language_info": {
   "codemirror_mode": {
    "name": "ipython",
    "version": 3
   },
   "file_extension": ".py",
   "mimetype": "text/x-python",
   "name": "python",
   "nbconvert_exporter": "python",
   "pygments_lexer": "ipython3",
   "version": "3.9.7"
  },
  "orig_nbformat": 4
 },
 "nbformat": 4,
 "nbformat_minor": 2
}
