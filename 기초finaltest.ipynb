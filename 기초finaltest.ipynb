{
 "cells": [
  {
   "cell_type": "markdown",
   "metadata": {},
   "source": [
    "## 파이썬 그까이꺼 Final Test"
   ]
  },
  {
   "cell_type": "markdown",
   "metadata": {},
   "source": [
    "1번문제 코드를 한줄만 써서 아래와 같이 출력해주세요\n",
    "\n",
    " * OO야 에는 자신의 이름을 넣어주세요 :)"
   ]
  },
  {
   "cell_type": "markdown",
   "metadata": {},
   "source": [
    "#출력예시  \n",
    "그동안 고생했다 OO야  \n",
    "그동안 고생했다 OO야  \n",
    "그동안 고생했다 OO야  \n",
    "그동안 고생했다 OO야  \n",
    "그동안 고생했다 OO야  \n",
    "그동안 고생했다 OO야  \n",
    "그동안 고생했다 OO야  \n",
    "그동안 고생했다 OO야  \n",
    "그동안 고생했다 OO야  \n",
    "그동안 고생했다 OO야  "
   ]
  },
  {
   "cell_type": "code",
   "execution_count": 65,
   "metadata": {},
   "outputs": [
    {
     "name": "stdout",
     "output_type": "stream",
     "text": [
      "그동안 고생했다 선교야\n",
      "그동안 고생했다 선교야\n",
      "그동안 고생했다 선교야\n",
      "그동안 고생했다 선교야\n",
      "그동안 고생했다 선교야\n",
      "그동안 고생했다 선교야\n",
      "그동안 고생했다 선교야\n",
      "그동안 고생했다 선교야\n",
      "그동안 고생했다 선교야\n",
      "그동안 고생했다 선교야\n"
     ]
    }
   ],
   "source": [
    "# 깔끔하게 1\n",
    "print(*(['그 동안 고생했다. @@야']*10), sep='\\n')\n",
    "\n",
    "# 깔끔하게 2\n",
    "print(\"그동안 고생했다 @@\\n\"*10)\n",
    "\n",
    "# 단순무식하게 / unit 7 참조\n",
    "print('그동안 고생했다 @@야', '그동안 고생했다 @@야', '그동안 고생했다 @@야', '그동안 고생했다 @@야', '그동안 고생했다 @@야', '그동안 고생했다 @@야', '그동안 고생했다 @@야', '그동안 고생했다 @@야', '그동안 고생했다 @@야', '그동안 고생했다 @@야', sep='\\n')\n",
    "\n"
   ]
  },
  {
   "cell_type": "markdown",
   "metadata": {},
   "source": [
    "2번문제 아래 코드를 사용하여, 아래 a까지의 합을 구하는 ‘함수’를 만들어주세요"
   ]
  },
  {
   "cell_type": "code",
   "execution_count": 66,
   "metadata": {},
   "outputs": [
    {
     "ename": "IndentationError",
     "evalue": "expected an indented block (2974237260.py, line 8)",
     "output_type": "error",
     "traceback": [
      "\u001b[0;36m  Input \u001b[0;32mIn [66]\u001b[0;36m\u001b[0m\n\u001b[0;31m    print(\"총합: \" + str(sum()))\u001b[0m\n\u001b[0m    ^\u001b[0m\n\u001b[0;31mIndentationError\u001b[0m\u001b[0;31m:\u001b[0m expected an indented block\n"
     ]
    }
   ],
   "source": [
    "#코드예시\n",
    "a = 1004\n",
    "\n",
    "def sum():\n",
    "# 여기에 코드 작성\n",
    "\n",
    "\n",
    "print(\"총합: \" + str(sum()))"
   ]
  },
  {
   "cell_type": "code",
   "execution_count": null,
   "metadata": {},
   "outputs": [],
   "source": []
  },
  {
   "cell_type": "markdown",
   "metadata": {},
   "source": [
    "출력예시  \n",
    "총합: 503506   "
   ]
  },
  {
   "cell_type": "code",
   "execution_count": 5,
   "metadata": {},
   "outputs": [
    {
     "name": "stdout",
     "output_type": "stream",
     "text": [
      "총합: 120\n"
     ]
    }
   ],
   "source": [
    "#간단하게\n",
    "b = 1004\n",
    "\n",
    "def sum():\n",
    "  a = 0\n",
    "  for i in range(1,b):\n",
    "    a += i\n",
    "  return a\n",
    "\n",
    "#간단하게 2\n",
    "a = 1004\n",
    "\n",
    "def sum(a):\n",
    "\ta = 0\n",
    "\tfor i in range(1004):\n",
    "\t\ta += i\n",
    "\treturn a\n",
    "\n",
    "print(\"총합:\" + str(sum(a)))\n",
    "\n",
    "  \n",
    "print(\"총합: \" + str(sum()))\n",
    "\n",
    "#unit 6 & 17 & 29 참조\n",
    "def sum(a): #입력값을 더하기 위한 함수 sum 선언 / unit 29\n",
    "    b = 0 # 입력값을 저장하기 위한 b 변수 선언\n",
    "    while 1: # while문을 사용하여 return을 만날때까지 무한반복 / unit 17\n",
    "        c = b + a # 입력값을 저장하기 위한 b와 더함\n",
    "        a -= 1 # 입력값에서 1을 빼줌\n",
    "        if a == 0: return c #입력값이 0이아니라면 패스 0일 때 c 출력\n",
    "        b = c # b값을 c로 선언하여 다시 a 값과 더함\n",
    "\n",
    "a = int(input()) #입력값을 정수로 저장하기 위한 int input 선언 / unit 6 참조\n",
    "print(\"총합: \" + str(sum(a)))"
   ]
  },
  {
   "cell_type": "code",
   "execution_count": null,
   "metadata": {},
   "outputs": [],
   "source": []
  },
  {
   "cell_type": "markdown",
   "metadata": {},
   "source": [
    "3번문제 정수를 입력하면, n!(팩토리얼) 을 출력하는 함수를 만들어주세요"
   ]
  },
  {
   "cell_type": "markdown",
   "metadata": {},
   "source": [
    "#예제 입력  \n",
    "\n",
    "12"
   ]
  },
  {
   "cell_type": "markdown",
   "metadata": {},
   "source": [
    "#예제 출력  \n",
    "479001600"
   ]
  },
  {
   "cell_type": "code",
   "execution_count": 11,
   "metadata": {},
   "outputs": [
    {
     "name": "stdout",
     "output_type": "stream",
     "text": [
      "3 의 !(팩토리얼)결과값은 6 입니다.\n"
     ]
    }
   ],
   "source": [
    "#간단하게\n",
    "\n",
    "n = int(input())\n",
    "\n",
    "def factorial(n):\n",
    "    result = 1\n",
    "    if n > 0 :\n",
    "        result = n * factorial(n-1)\n",
    "    return result\n",
    "\n",
    "print(factorial(n))\n",
    "\n",
    "#unit 6 & 17 & 24 & 29 참조\n",
    "\n",
    "def facto(a): #입력값을 곱하기 위한 함수 facto 선언\n",
    "    b = 1 #초기값 곱하기를 위한 1 선언\n",
    "    while 1: # while 반복문을 위한 1(turue) 선언\n",
    "        c = b * a # b값에 입력값 a를 곱함\n",
    "        a -= 1 # 계산이 끝난 후 입력값 a 1 감소후 저장\n",
    "        if a == 0: return c # 만약 a가 0이면 c 출력\n",
    "        b = c #리턴이 아니라면 b값을 c값으로 저장한 후 반복 \n",
    "\n",
    "a = int(input()) #입력값을 정수로 저장하기 위한 int input 선언 / unit 6 참조\n",
    "print(a, \"의 !(팩토리얼)결과값은 {} 입니다.\".format(facto(a))) # 포맷 기능을 사용하여 프린트 결과값을 좀더 넣기 쉽게 만들어 봄 unit.24 참조\n"
   ]
  },
  {
   "cell_type": "code",
   "execution_count": null,
   "metadata": {},
   "outputs": [],
   "source": []
  }
 ],
 "metadata": {
  "interpreter": {
   "hash": "a59dc1dcb280767e1541beb883352acbe24e77c028211ef192031d7df32c832b"
  },
  "kernelspec": {
   "display_name": "Python 3.9.7 ('venv': venv)",
   "language": "python",
   "name": "python3"
  },
  "language_info": {
   "codemirror_mode": {
    "name": "ipython",
    "version": 3
   },
   "file_extension": ".py",
   "mimetype": "text/x-python",
   "name": "python",
   "nbconvert_exporter": "python",
   "pygments_lexer": "ipython3",
   "version": "3.9.7"
  },
  "orig_nbformat": 4
 },
 "nbformat": 4,
 "nbformat_minor": 2
}
