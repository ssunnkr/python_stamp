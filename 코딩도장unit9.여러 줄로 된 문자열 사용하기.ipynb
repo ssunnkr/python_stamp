{
 "cells": [
  {
   "cell_type": "markdown",
   "metadata": {},
   "source": [
    "##다음과 같이 출력되는 소스 코드를 완성.\n",
    "\n",
    "'Python' is a \"programming language\"  \n",
    "that lets you work quickly  \n",
    "and  \n",
    "integrate systems more effectively.  "
   ]
  },
  {
   "cell_type": "code",
   "execution_count": 1,
   "metadata": {},
   "outputs": [
    {
     "name": "stdout",
     "output_type": "stream",
     "text": [
      "'Python' is a \"programming language\"\n",
      "that lets you work quickly\n",
      "and\n",
      "integrate systems more effectively.\n"
     ]
    }
   ],
   "source": [
    "#작은 따옴표안에서 작은 따옴표를 사용하려면 \\(역슬래쉬)를 사용하면 된다.\n",
    "# ''' 안에서는 \"\"는 사용할 수 있으며 그 반대도 가능하다.\n",
    "\n",
    "s = '''\\'Python\\' is a \"programming language\" \n",
    "that lets you work quickly\n",
    "and\n",
    "integrate systems more effectively.'''\n",
    "print(s)"
   ]
  },
  {
   "cell_type": "code",
   "execution_count": null,
   "metadata": {},
   "outputs": [],
   "source": []
  }
 ],
 "metadata": {
  "interpreter": {
   "hash": "a59dc1dcb280767e1541beb883352acbe24e77c028211ef192031d7df32c832b"
  },
  "kernelspec": {
   "display_name": "Python 3.9.7 ('venv': venv)",
   "language": "python",
   "name": "python3"
  },
  "language_info": {
   "codemirror_mode": {
    "name": "ipython",
    "version": 3
   },
   "file_extension": ".py",
   "mimetype": "text/x-python",
   "name": "python",
   "nbconvert_exporter": "python",
   "pygments_lexer": "ipython3",
   "version": "3.9.7"
  },
  "orig_nbformat": 4
 },
 "nbformat": 4,
 "nbformat_minor": 2
}
