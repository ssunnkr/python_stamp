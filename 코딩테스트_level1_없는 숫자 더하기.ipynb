{
 "cells": [
  {
   "cell_type": "markdown",
   "metadata": {},
   "source": [
    "\n",
    "문제 설명\n",
    "0부터 9까지의 숫자 중 일부가 들어있는 정수 배열 numbers가 매개변수로 주어집니다. numbers에서 찾을 수 없는 0부터 9까지의 숫자를 모두 찾아 더한 수를 return 하도록 solution 함수를 완성해주세요."
   ]
  },
  {
   "cell_type": "code",
   "execution_count": 34,
   "metadata": {},
   "outputs": [
    {
     "name": "stdout",
     "output_type": "stream",
     "text": [
      "count를 사용한 리스트확인. 사용자 입력값 = Counter({1: 1, 2: 1, 4: 1, 5: 1, 6: 1})\n",
      "count를 사용한 리스트확인. 기존값 = Counter({0: 1, 1: 1, 2: 1, 3: 1, 4: 1, 5: 1, 6: 1, 7: 1, 8: 1, 9: 1})\n",
      "결과는 27 입니다.\n"
     ]
    }
   ],
   "source": [
    "import collections # collections 모듈 import, 다양한 자료구조인 리스트, 튜플, 딕셔너리 등을 확장하여 제작된 파이썬의 내장 모듈\n",
    "\n",
    "def solution(numbers):\n",
    "    answer = 0\n",
    "    num = list(range(0,10)) # 0부터 9까지, 리스트 생성\n",
    "    #입력된 값과 number\n",
    "    answer = collections.Counter(num)-collections.Counter(numbers) #Counter모듈: 시퀀스 자료형의 데이터 요소 개수를 딕셔너리 형태로 반환하는 자료구조. 리스트나 문자열과 같은 시퀀스 자료형 안의 요소 중 값이 같은 것이 몇개 있는지 반환해줌.\n",
    "    print('count를 사용한 리스트확인. 기존값 = {}'.format(collections.Counter(num)))\n",
    "\n",
    "    return sum(answer)\n",
    "\n",
    "numbers = (1,2,4,5,6)\n",
    "\n",
    "print('count를 사용한 리스트확인. 사용자 입력값 = {}'.format(collections.Counter(numbers)))\n",
    "print('결과는 {} 입니다.'.format(solution(numbers)))"
   ]
  },
  {
   "cell_type": "code",
   "execution_count": 22,
   "metadata": {},
   "outputs": [
    {
     "name": "stdout",
     "output_type": "stream",
     "text": [
      "27\n"
     ]
    }
   ],
   "source": [
    "#쉽게 생각하기\n",
    "def solution(numbers):\n",
    "    return 45 - sum(numbers) # 선언된 모든 수를 더한 값을 0부터 9까지의 총합인 45에서 빼주면 위코드와 결과는 같다.\n",
    "\n",
    "numbers = (1,2,4,5,6)\n",
    "print(solution(numbers))"
   ]
  },
  {
   "cell_type": "code",
   "execution_count": null,
   "metadata": {},
   "outputs": [],
   "source": [
    "import collections # collections 모듈 import, 다양한 자료구조인 리스트, 튜플, 딕셔너리 등을 확장하여 제작된 파이썬의 내장 모듈\n",
    "\n",
    "def solution(numbers):\n",
    "#입력받은 숫자들을 리스트로 저장하기/ 과정\n",
    "#입력받은 숫자와 기존 숫자를 계산해서 저장/ 결론\n",
    "    answer = 0\n",
    "    num = list(range(0,10)) # 0부터 9까지, 리스트 생성\n",
    "    num.append(1)\n",
    "    #입력된 값과 number\n",
    "    answer = collections.Counter(num)-collections.Counter(numbers) #Counter모듈: 시퀀스 자료형의 데이터 요소 개수를 딕셔너리 형태로 반환하는 자료구조. 리스트나 문자열과 같은 시퀀스 자료형 안의 요소 중 값이 같은 것이 몇개 있는지 반환해줌.\n",
    "  #키 값아닌 벨류가 사라짐(키 값은 유지)\n",
    "    print('count를 사용한 리스트확인. 기존값 = {}'.format(collections.Counter(num)))\n",
    "\n",
    "    return answer\n",
    "\n",
    "numbers = (1,2,4,5,6)\n",
    "print('count를 사용한 리스트확인. 사용자 입력값 = {}'.format(collections.Counter(numbers)))\n",
    "print('결과는 {} 입니다.'.format(solution(numbers)))"
   ]
  }
 ],
 "metadata": {
  "interpreter": {
   "hash": "b68e377a671b9e72a3b1087335efb134a77d36c0bfe57a32a7c19b212dc2fbdd"
  },
  "kernelspec": {
   "display_name": "Python 3.9.7 ('base')",
   "language": "python",
   "name": "python3"
  },
  "language_info": {
   "codemirror_mode": {
    "name": "ipython",
    "version": 3
   },
   "file_extension": ".py",
   "mimetype": "text/x-python",
   "name": "python",
   "nbconvert_exporter": "python",
   "pygments_lexer": "ipython3",
   "version": "3.9.7"
  },
  "orig_nbformat": 4
 },
 "nbformat": 4,
 "nbformat_minor": 2
}
