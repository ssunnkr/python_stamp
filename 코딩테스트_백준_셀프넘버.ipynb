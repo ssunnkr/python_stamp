
# 셀프 넘버


#### 문제
셀프 넘버는 1949년 인도 수학자 D.R. Kaprekar가 이름 붙였다. 양의 정수 n에 대해서 d(n)을 n과 n의 각 자리수를 더하는 함수라고 정의하자. 예를 들어, d(75) = 75+7+5 = 87이다.

양의 정수 n이 주어졌을 때, 이 수를 시작해서 n, d(n), d(d(n)), d(d(d(n))), ...과 같은 무한 수열을 만들 수 있다. 

예를 들어, 33으로 시작한다면 다음 수는 33 + 3 + 3 = 39이고, 그 다음 수는 39 + 3 + 9 = 51, 다음 수는 51 + 5 + 1 = 57이다. 이런식으로 다음과 같은 수열을 만들 수 있다.

33, 39, 51, 57, 69, 84, 96, 111, 114, 120, 123, 129, 141, ...

n을 d(n)의 생성자라고 한다. 위의 수열에서 33은 39의 생성자이고, 39는 51의 생성자, 51은 57의 생성자이다. 생성자가 한 개보다 많은 경우도 있다. 예를 들어, 101은 생성자가 2개(91과 100) 있다. 

생성자가 없는 숫자를 셀프 넘버라고 한다. 100보다 작은 셀프 넘버는 총 13개가 있다. 1, 3, 5, 7, 9, 20, 31, 42, 53, 64, 75, 86, 97

10000보다 작거나 같은 셀프 넘버를 한 줄에 하나씩 출력하는 프로그램을 작성하시오.
#### 입력
입력은 없다.

#### 출력.
10,000보다 작거나 같은 셀프 넘버를 한 줄에 하나씩 증가하는 순서로 출력한다.
# 무한 수열의 형태를 만들어야 함.
# n을 d(n)의 생성자 수열에서 33은 39의 생성자, 39는 51의 생성자, 51은 57의 생정자
# 101은 생성자가 2개(91과 100) 있다.
# 생성자가 없는 숫자를 셀프 넘버라고 한다. 100보다 작은 셀프 넘버는 총 13개가 있다. 1, 3, 5, 7, 9, 20, 31, 42, 53, 64, 75, 86, 97
# 10000보다 작거나 같은 셀프 넘버를 한 줄에 하나씩 출력하는 프로그램 작성

#즉 셀프넘버가 아닌 수를 1~10000에서 제거한다음 한줄에 하나씩 출력해야함.
#리스트를 3개 만든다

#Not셀프넘버 (notself_num)
#셀프넘버를 위한 1~10001 (inself_num)
#셀프넘버에서 Not 셀프넘버를 빼기위한 셀프넘버(perfectself_num)

#제일먼저 구할 것은 Not셀프넘버를 구한다 -> 각자리수를 더해주는 for문을 만들어서 빈리스트로 반듬 not셀프넘버에 계속 추가(add)
#구해진 notself_num를 inself_num에서 뺀다 -> inself - notself
#그렇게 구해진  perfectself_num을 오름차순으로 정렬하기 위해 for문을 사용하여 정렬한다 (sorted)
inself_num = set(range(1, 10001))
notself_num = set()
for i in range(1, 10001):
    for j in str(i):
        i += int(j)
    notself_num.add(i)
perfectself_num = inself_num - notself_num
for i in sorted(perfectself_num):
    print(i)
# 아래는 실험중
#함수를 3개 만들어보기


def thounnum(self):
    for i range(1, 100):
        if i > 999:
            a = i // 1000
            aa = i % 1000
            b = aa // 100
            ba = aa % 100
            c = ba // 10
            ca = ba % 10

    
# i = range(1,10000)
i = 224

d = i %10


a = i // 1000
aa = i % 1000
b = aa // 100
ba = aa % 100
c = ba // 10
ca = ba % 10 # 1의 자리를 나누고 난뒤 1의 자리 나머지

print(a,aa,b,ba,c,ca,d, sep='\n')


a = 33


# def selfnum():
selflist = []
for i in range(1,1000):
    if i > 1000:
          a = i % 1000
    elif i > 100:
         a = i % 100
    elif i > 10: 
        a = i % 10
    else:
        a = i % 10 
    selflist.append(a)   
    i += 1
 #       if i >=10000:
 #           i %= 10000
 #       if i >=1000:
 #           i %= 1000
 #      if i >=100:
 #           i %= 100
 #       if i >=10:
  #          i %= 10
          
print(selflist)

#print(selfnum(num()))
i = 1
a = 0
b = 1
for i in range(1,10001):
    if b == i: 
        continue
    print(b)
    b += i

#### 예제 출력1
1  
3  
5  
7  
9  
20  
31  
42  
53  
64  
 |  
 |        <-- a lot more numbers  
 |  
9903  
9914  
9925  
9927  
9938  
9949  
9960  
9971  
9982  
9993  

#### 출처
ICPC > Regionals > North America > Mid-Central Regional > 1998 Mid-Central Regional Programming Contest D번
#### 알고리즘 분류
수학  
구현  
브루트포스 알고리즘  
