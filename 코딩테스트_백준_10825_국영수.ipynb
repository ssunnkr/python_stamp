{
 "cells": [
  {
   "cell_type": "markdown",
   "metadata": {},
   "source": [
    "# 문제링크: https://www.acmicpc.net/problem/10825"
   ]
  },
  {
   "cell_type": "code",
   "execution_count": 2,
   "metadata": {},
   "outputs": [
    {
     "name": "stdout",
     "output_type": "stream",
     "text": [
      "Donghyuk\n",
      "Sangkeun\n",
      "Sunyoung\n",
      "nsj\n",
      "Wonseob\n",
      "Sanghyun\n",
      "Sei\n",
      "Kangsoo\n",
      "Haebin\n",
      "Junkyu\n",
      "Soong\n",
      "Taewhan\n"
     ]
    }
   ],
   "source": [
    "count = int(input())\n",
    "# 학생 정보를 담을 리스트를 생성합니다.\n",
    "a = []\n",
    "\n",
    "# 모든 학생 정보를 입력받습니다.\n",
    "for i in range(count):\n",
    "    [name, kor, eng, mat] = input().split()\n",
    "    a.append([name, kor, eng, mat])\n",
    "# 정렬기준. sort()함수를 적절히 사용\n",
    "# 1. 두 번째 원소를 기준으로 내림차순 정렬\n",
    "# 2. 두 번째 원소가 같은 경우, 세 번째 원소를 기준으로 오름차순 정렬\n",
    "# 3. 세 번째 원소가 같은 경우, 네 번째 원소를 기준으로 내림차순 정렬\n",
    "# 4. 네 번째 원소가 같은 경우, 첫 번째 원소를 기준으로 오름차순 정렬    \n",
    "b = sorted(a, key= lambda a: (-int(a[1]), int(a[2]), -int(a[3]), a[0]))\n",
    "\n",
    "# 정렬된 학생 정보에서 이름만 출력합니다.\n",
    "for i in range(count):\n",
    "    print(b[i][0])\n"
   ]
  },
  {
   "cell_type": "code",
   "execution_count": null,
   "metadata": {},
   "outputs": [],
   "source": []
  }
 ],
 "metadata": {
  "interpreter": {
   "hash": "a59dc1dcb280767e1541beb883352acbe24e77c028211ef192031d7df32c832b"
  },
  "kernelspec": {
   "display_name": "Python 3.9.7 ('venv': venv)",
   "language": "python",
   "name": "python3"
  },
  "language_info": {
   "codemirror_mode": {
    "name": "ipython",
    "version": 3
   },
   "file_extension": ".py",
   "mimetype": "text/x-python",
   "name": "python",
   "nbconvert_exporter": "python",
   "pygments_lexer": "ipython3",
   "version": "3.9.7"
  },
  "orig_nbformat": 4
 },
 "nbformat": 4,
 "nbformat_minor": 2
}
