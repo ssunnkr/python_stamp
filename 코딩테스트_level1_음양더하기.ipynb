{
 "cells": [
  {
   "cell_type": "markdown",
   "metadata": {},
   "source": [
    "어떤 정수들이 있습니다. 이 정수들의 절댓값을 차례대로 담은 정수 배열 absolutes와 이 정수들의 부호를 차례대로 담은 불리언 배열 signs가 매개변수로 주어집니다. 실제 정수들의 합을 구하여 return 하도록 solution 함수를 완성해주세요.\n",
    "\n"
   ]
  },
  {
   "cell_type": "code",
   "execution_count": 18,
   "metadata": {},
   "outputs": [
    {
     "name": "stdout",
     "output_type": "stream",
     "text": [
      "계산결과는 13 입니다.\n"
     ]
    }
   ],
   "source": [
    "# 음양 더하기\n",
    "def solution(absolutes, tfs): # 함수 선언 /unit29, 30참조.\n",
    "    # tfs에 입력된 값이 참이면 해당 absolutes의 수가 양수, 만약 거짓이면 음수로 인식되게 만드는 것이 /과정1\n",
    "    # 주어진 수를 하나씩 접근해야함(위치인수개념) /과정2\n",
    "    # 양수와 음수가 적용된 모든 숫자들의 합이 결과로 나와야함. /결론\n",
    "    answer = 0\n",
    "    for i in range(len(absolutes)): #len은 입력값 num의 길이(요소의 전체 개수)를 리턴하는 함수 여기서는 4개 / unit11, 22 참조\n",
    "        #  참인경우 양수이므로 더하기\n",
    "        if tfs[i]: #앞서 선언했던 인덱스를 위치별로 하나씩 판단함. if문은 참일 때 실행되므로 입력했던 tf가 참일 때 if문 실행 아닐 경우 else실행 /unit13 참조.\n",
    "            answer += absolutes[i] # 입력된 값이 참이면 answer에다가 +연산 실행후 저장 / unit6 참조\n",
    "        # 거짓인 경우 음수이므로 빼기\n",
    "        else:\n",
    "            answer -= absolutes[i] # 입력된 값이 거짓이면 answer에다가 +연산 실행후 저장 / unit6 참조\n",
    "    return answer\n",
    "\n",
    "num = (4, 7, 12, 15, 20, 1)\n",
    "tf = (True, False, 1, 0, '맞음', '') # 1 true, 0 false, 문자열 true, 빈문자열 false / unit8, 30 참조.\n",
    "\n",
    "print('계산결과는 {} 입니다.'.format(solution(num, tf))) #format 기능 사용 / unit24 참조."
   ]
  },
  {
   "cell_type": "code",
   "execution_count": null,
   "metadata": {},
   "outputs": [],
   "source": []
  }
 ],
 "metadata": {
  "interpreter": {
   "hash": "b68e377a671b9e72a3b1087335efb134a77d36c0bfe57a32a7c19b212dc2fbdd"
  },
  "kernelspec": {
   "display_name": "Python 3.9.7 ('base')",
   "language": "python",
   "name": "python3"
  },
  "language_info": {
   "codemirror_mode": {
    "name": "ipython",
    "version": 3
   },
   "file_extension": ".py",
   "mimetype": "text/x-python",
   "name": "python",
   "nbconvert_exporter": "python",
   "pygments_lexer": "ipython3",
   "version": "3.9.7"
  },
  "orig_nbformat": 4
 },
 "nbformat": 4,
 "nbformat_minor": 2
}
