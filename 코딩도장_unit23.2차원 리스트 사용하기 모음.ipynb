{
 "cells": [
  {
   "cell_type": "markdown",
   "id": "2dea8657",
   "metadata": {},
   "source": [
    "+ 23.7 심사문제: 지뢰찾기"
   ]
  },
  {
   "cell_type": "code",
   "execution_count": 4,
   "id": "aa560c0b",
   "metadata": {},
   "outputs": [
    {
     "name": "stdout",
     "output_type": "stream",
     "text": [
      "3 3\n",
      ".**\n",
      "*..\n",
      ".*.\n",
      "\n",
      "2**\n",
      "*43\n",
      "2*1\n"
     ]
    }
   ],
   "source": [
    "row, col = map(int, input().split())\n",
    "matrix = []\n",
    "for i in range(row):\n",
    "    matrix.append(list(input()))\n",
    "print()\n",
    "for i in range(row):\n",
    "    for j in range(col):\n",
    "        cnt = 0\n",
    "        if matrix[i][j] == \".\":\n",
    "            if i != 0 and j != 0: \n",
    "                if matrix[i-1][j-1] == \"*\": cnt += 1\n",
    "            if i != row-1 and j != col-1:\n",
    "                if matrix[i+1][j+1] == \"*\": cnt += 1\n",
    "            if i != 0:\n",
    "                if matrix[i-1][j] == \"*\": cnt += 1\n",
    "            if i != 0 and j != col-1:\n",
    "                if matrix[i-1][j+1] == \"*\": cnt += 1\n",
    "            if j != 0:\n",
    "                if matrix[i][j-1] == \"*\": cnt += 1\n",
    "            if i != row - 1 and j != 0:\n",
    "                if matrix[i+1][j-1] == \"*\": cnt += 1\n",
    "            if j != col -1:\n",
    "                if matrix[i][j+1] == \"*\": cnt += 1\n",
    "            if i != row -1:\n",
    "                if matrix[i+1][j] ==\"*\": cnt += 1\n",
    "            matrix[i][j] = cnt\n",
    "            print(matrix[i][j], end=\"\")\n",
    "        else:\n",
    "            print(matrix[i][j], end=\"\")\n",
    "\n",
    "    print()"
   ]
  },
  {
   "cell_type": "code",
   "execution_count": 3,
   "id": "bf89e175",
   "metadata": {},
   "outputs": [
    {
     "name": "stdout",
     "output_type": "stream",
     "text": [
      "3 3\n",
      "*12\n",
      "1*3\n",
      "***\n",
      "*21\n",
      "4*3\n",
      "***\n"
     ]
    }
   ],
   "source": [
    "col, row = map(int, input().split())\n",
    "matrix = []\n",
    "for i in range(row):\n",
    "    matrix.append(list(input()))\n",
    "for i in range(row):\n",
    "    for j in range(col):\n",
    "        if matrix[i][j] == '*':\n",
    "            continue\n",
    "        else:\n",
    "            matrix[i][j] = 0 # 0을 넣은 뒤에는 요소 주변 8개를 탐색하면서 *이면 요소를 1개씩 증가\n",
    "            # range에서 생성한 숫자의 마지막 값은 끝나는 값보다 1 작은데\n",
    "            # 탐색을 위해서 한 칸 아래까지 더 반복해야 하므로 i + 1이 아닌 i + 2가 되어야 함\n",
    "            for y in range(i - 1, i + 2): # 한 칸 위부터 한 칸 아래까지 반복\n",
    "                for x in range(j -1, j + 2): # 한 칸 앞(왼쪽)부터 한 칸 뒤(오른쪽)까지 반복\n",
    "                    if y < 0 or x < 0 or y >= row or x >= col: # 리스트의 범위를 벗어나면 건너뛰기\n",
    "                        continue\n",
    "                    elif matrix[y][x] == '*':\n",
    "                        matrix[i][j] += 1\n",
    "\n",
    "for i in range(row):\n",
    "    for j in range(col):\n",
    "        print(matrix[i][j], end='')\n",
    "    print()\n",
    "\n",
    "# for i in matrix:\n",
    "#     for j in i:\n",
    "#         print(j, end='')\n",
    "#     print()"
   ]
  },
  {
   "cell_type": "code",
   "execution_count": null,
   "id": "3fce8746",
   "metadata": {},
   "outputs": [],
   "source": []
  },
  {
   "cell_type": "code",
   "execution_count": null,
   "id": "110e8ff4",
   "metadata": {},
   "outputs": [],
   "source": []
  }
 ],
 "metadata": {
  "kernelspec": {
   "display_name": "Python 3 (ipykernel)",
   "language": "python",
   "name": "python3"
  },
  "language_info": {
   "codemirror_mode": {
    "name": "ipython",
    "version": 3
   },
   "file_extension": ".py",
   "mimetype": "text/x-python",
   "name": "python",
   "nbconvert_exporter": "python",
   "pygments_lexer": "ipython3",
   "version": "3.9.7"
  }
 },
 "nbformat": 4,
 "nbformat_minor": 5
}
